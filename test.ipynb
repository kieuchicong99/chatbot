{
 "cells": [
  {
   "cell_type": "code",
   "execution_count": 2,
   "metadata": {},
   "outputs": [
    {
     "data": {
      "text/plain": [
       "[('thoi_gian_mo_cua', 0.95347184)]"
      ]
     },
     "execution_count": 2,
     "metadata": {},
     "output_type": "execute_result"
    }
   ],
   "source": [
    "from predict import response, classify\n",
    "# classify('chất lượng kém')#sai\n",
    "# classify('giao hàng lâu quá')#sai\n",
    "# classify('tôi phải hủy đơn cho shop biết mặt')#dung\n",
    "# classify('có ai không')#dung\n",
    "# classify('áo len cổ lọ còn hay hết')#dung\n",
    "# classify('tôi muốn trả hàng')#sai\n",
    "# classify('sản phẩm khác xa ảnh')#dung\n",
    "# classify('mình không biết mua gì')#dung\n",
    "# classify('hàng tốt thế nhỉ')#dung\n",
    "# classify('thông minh như anhstanh')#sai\n",
    "# classify('bot có ny chưa')#sai\n",
    "# classify('tôi muốn đặt 5 chiếc tất')#dung\n",
    "# classify('tôi đặt hàng rồi sau bao lâu mới được nhận')#sai\n",
    "# classify('giá 5 chiếc tất này như thế nào vậy')#dung\n",
    "# classify('giá ship 5 chiếc tất có đắt không')#dung\n",
    "classify('mai tôi có thể đến shop lúc mấy giờ')#dung"
   ]
  }
 ],
 "metadata": {
  "kernelspec": {
   "display_name": "Python 3",
   "language": "python",
   "name": "python3"
  },
  "language_info": {
   "codemirror_mode": {
    "name": "ipython",
    "version": 3
   },
   "file_extension": ".py",
   "mimetype": "text/x-python",
   "name": "python",
   "nbconvert_exporter": "python",
   "pygments_lexer": "ipython3",
   "version": "3.7.5"
  }
 },
 "nbformat": 4,
 "nbformat_minor": 2
}
